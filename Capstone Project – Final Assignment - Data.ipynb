{
 "cells": [
  {
   "cell_type": "markdown",
   "metadata": {
    "collapsed": true
   },
   "source": [
    "# <font color=green>Data</font>"
   ]
  },
  {
   "cell_type": "markdown",
   "metadata": {},
   "source": [
    "## <font color=green>Data Requirement</font>"
   ]
  },
  {
   "cell_type": "markdown",
   "metadata": {},
   "source": [
    "Based on our business problem ie. – “Identifying a suitable location to build a Shopping Mall in City of Mangalore.” we need following data.<br>\n",
    "1.\tWe need a list of neighborhoods in Mangalore to identify locations with Residential buildings, Hotels, Colleges, parks, transportation etc.<br>\n",
    "2.\tWe need the latitude and longitude coordination of these neighborhoods for different analysis and visualization. <br>\n",
    "3.\tAnalyze the obtained data to identify the best locations for coming up with new Shopping Mall.<br>\n"
   ]
  },
  {
   "cell_type": "markdown",
   "metadata": {},
   "source": [
    "## <font color=green>Data Source</font>"
   ]
  },
  {
   "cell_type": "markdown",
   "metadata": {},
   "source": [
    "Following are the data sources needed for the analysis<br>\n",
    "1.\t__Google Map__ to get coordinates of Mangalore City<br>\n",
    "2.\t__Wikipedia__ to collect information about different neighborhoods (wards) in Mangalore.<br>\n",
    "3.\tUsing __Foursquare API's__ to find out the best location for the mall. Also analyze the different neighborhoods to find out the number of Residential building, Hotels, arks etc.<br>\n",
    "4.\tWill be using __Geopy Nominatim__ to get the latitude and longitude of different locations/Wards.<br>\n",
    "5.\t__Pandas__ will be used to clean up the data As we may have to _add/remove/fix_ coordinates of different locations/wards. Data collection and cleaning will be a important activity in this project as there may not be enough information available from one single source. <br>\n"
   ]
  },
  {
   "cell_type": "code",
   "execution_count": null,
   "metadata": {},
   "outputs": [],
   "source": []
  }
 ],
 "metadata": {
  "kernelspec": {
   "display_name": "Python 3.6",
   "language": "python",
   "name": "python3"
  },
  "language_info": {
   "codemirror_mode": {
    "name": "ipython",
    "version": 3
   },
   "file_extension": ".py",
   "mimetype": "text/x-python",
   "name": "python",
   "nbconvert_exporter": "python",
   "pygments_lexer": "ipython3",
   "version": "3.6.9"
  }
 },
 "nbformat": 4,
 "nbformat_minor": 1
}
