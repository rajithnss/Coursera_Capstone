{
 "cells": [
  {
   "cell_type": "markdown",
   "metadata": {
    "collapsed": true
   },
   "source": [
    "# <font color=green>Identifying a suitable location to build a Shopping Mall in City of Mangalore.</font>"
   ]
  },
  {
   "cell_type": "markdown",
   "metadata": {},
   "source": [
    "## <font color=green>Background</font>"
   ]
  },
  {
   "cell_type": "markdown",
   "metadata": {},
   "source": [
    "Mangalore know as port city of Karnataka located in the southern part of India. It has a beautiful cost line. Mangalore is known for its swaying coconut palms, beautiful beaches and temple architecture. It is also an important industrial, commercial, __educational__ and __healthcare__ hub.<br><br> \n",
    "It is one of the fastest growing non metro (Indian city of population less than 1 million) in South India. Mangalore is the 2nd largest business centre in Karnataka. Around 75% of India's coffee, timber and cashew nuts exports are handled by the New Mangalore Port. Mangalore is one among the 5 cities in the country to have both a Major Port and an International Airport.<br><br>\n",
    "Mangalore has some of the tallest buildings in South India, with many more under construction. Mangalore International Airport is among the 2 International Airports in Karnataka. Mangalore is selected as one of the hundred Indian cities to be developed as a __Smart City__. \n"
   ]
  },
  {
   "cell_type": "markdown",
   "metadata": {},
   "source": [
    "## <font color=green>Business Problem</font>"
   ]
  },
  {
   "cell_type": "markdown",
   "metadata": {},
   "source": [
    "The objective of this project is - “Identifying a suitable location to build a Shopping Mall in City of Mangalore”. Currently Mangalore has only 3 malls. And out of them 1 is comparatively small also very old. People at Mangalore like Banded cloths accessories. And list of multinational bands in these malls are limited. So there is huge potential to open up Banded outlets. And eating out is also catching up. Mangalorians like movies too; and multiplex at Manglore play movies of different language English(Hollywood), Hindhi, Kannada, Tamil, Telugu,Tulu. <br><br>\n",
    "This project will try to come up with a solution by using the data science methodologies and machine learning techniques like clustering; the best suited location for a new Shopping mall that is close to crowded areas of the city that has essentially high residential areas. And it should be easily accessible/ well connected as most people depend on public transport."
   ]
  },
  {
   "cell_type": "markdown",
   "metadata": {},
   "source": [
    "## <font color=green>Business Stakeholders</font>"
   ]
  },
  {
   "cell_type": "markdown",
   "metadata": {},
   "source": [
    "This project is useful to __property developers__ and also to the __investors__ who are interested in investing in properties at Mangalore. According to __U.N__ Projections population of Mangalore will grow from current __700,000__ to around __1,000,000__  in __2035__. This steady  growth in population will contribute to better business opportunities and Shopping Malls are one of the best investment options as more and more __people__(customers) like to visit malls as they are the one stop destination for Shopping, eating out, entertainment, socializing etc. This also gives better opportunity for the __Shopkeepers__ to open up banded stores and ultimately __Government__ will get more revenue and community too gets benefited."
   ]
  },
  {
   "cell_type": "code",
   "execution_count": null,
   "metadata": {},
   "outputs": [],
   "source": []
  }
 ],
 "metadata": {
  "kernelspec": {
   "display_name": "Python 3.6",
   "language": "python",
   "name": "python3"
  },
  "language_info": {
   "codemirror_mode": {
    "name": "ipython",
    "version": 3
   },
   "file_extension": ".py",
   "mimetype": "text/x-python",
   "name": "python",
   "nbconvert_exporter": "python",
   "pygments_lexer": "ipython3",
   "version": "3.6.9"
  }
 },
 "nbformat": 4,
 "nbformat_minor": 1
}
